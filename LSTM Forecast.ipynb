{
 "cells": [
  {
   "cell_type": "markdown",
   "id": "65ef41f0",
   "metadata": {},
   "source": [
    "# Forecasting with LSTMs"
   ]
  },
  {
   "cell_type": "markdown",
   "id": "0054ea7c",
   "metadata": {},
   "source": [
    "## <p style=\"text-align: center;\">Review</p>"
   ]
  },
  {
   "cell_type": "markdown",
   "id": "62441007",
   "metadata": {},
   "source": [
    "#### References"
   ]
  },
  {
   "cell_type": "markdown",
   "metadata": {},
   "source": [
    "```1. Introduction to Seq2Seq Models```  \n",
    "* https://towardsdatascience.com/day-1-2-attention-seq2seq-models-65df3f49e263\n",
    "\n",
    "\n",
    " ```2. LSTM Models for Timeseries Forecasting```  \n",
    "* https://machinelearningmastery.com/how-to-develop-lstm-models-for-time-series-forecasting/\n",
    "* Good examples of data loading\n",
    "* TensorFlow Keras\n",
    "* Univariate\n",
    "* Multivariate Vector\n",
    "* Multivariate Encoder Decoder\n",
    "* Multi-step LSTM Model\n",
    "* Multiple Parallel Series\n",
    "\n",
    "```3. Multivariate Timeseries Forecasting with LSTMs Keras```  \n",
    "https://machinelearningmastery.com/multivariate-time-series-forecasting-lstms-keras/\n",
    "* Air pollution dataset\n",
    "\n",
    "```4. Timeseries Analysis on Multivariate Data Tensorflow <<< Univariate but it is a good example```   \n",
    "https://towardsdatascience.com/time-series-analysis-on-multivariate-data-in-tensorflow-2f0591088502 \n",
    "* scaling\n",
    "* inverse scale \n",
    "* Good basic example ... \n",
    "* Epochs, Batches, Input Dimensions\n",
    "\n",
    "\n",
    "```5. How to convert timeseries to Supervised Learning```  \n",
    "https://machinelearningmastery.com/convert-time-series-supervised-learning-problem-python/ \n",
    "\n",
    "\n",
    "```6. Timeseries Analysis LSTM - Susan Li```\n",
    "* https://towardsdatascience.com/time-series-analysis-visualization-forecasting-with-lstm-77a905180eba\n",
    "* electricity use global active power, 1 min sampling, 4 years\n",
    "\n",
    "\n",
    "```7. Epochs, Batches, Iterations, Underfiting, Overfitting```\n",
    "* https://towardsdatascience.com/epoch-vs-iterations-vs-batch-size-4dfb9c7ce9c9\n",
    "\n",
    "\n",
    "```8. Timeseries forecasting with PyTorch```  \n",
    "* https://medium.com/analytics-vidhya/pytorch-lstms-for-time-series-forecasting-of-indian-stocks-8a49157da8b9 \n",
    "* Indian Stocks\n",
    "* Data Loader\n",
    "* RNN Model with 2 Fully Connected Layers\n",
    "\n",
    "\n",
    "```9. Multivariate forecasting with PyTorch```   \n",
    "* https://www.crosstab.io/articles/time-series-pytorch-lstm \n",
    "* Pytorch, univariate, purple air, data loader and structure of data, pytorch model\n",
    "\n",
    "\n",
    "```10.  Functional and Sequential Keras APIs  <<  this can be used to defne a hybrid (RNN and fully connected) model```  \n",
    "https://machinelearningmastery.com/keras-functional-api-deep-learning/  \n",
    "* Keras Sequential API\n",
    "* Keras Functional API\n",
    "\n",
    "```11. forecasting superstore sales with LSTM```   \n",
    "https://towardsdatascience.com/an-end-to-end-project-on-time-series-analysis-and-forecasting-with-python-4835e6bf050b \n",
    "* superstore data set\n",
    "* Keras LSTM\n",
    "\n",
    "```12. Embeddings Layer with TensorFlow```  \n",
    "* https://machinelearningmastery.com/use-word-embedding-layers-deep-learning-keras/"
   ]
  },
  {
   "cell_type": "markdown",
   "id": "b712851f",
   "metadata": {},
   "source": [
    "#### Review - Concepts, Architectures and APIs"
   ]
  },
  {
   "cell_type": "markdown",
   "id": "11a224c9",
   "metadata": {},
   "source": [
    "\n",
    "* Ref 1 provides a good example of basic architectures of LSTM and corresponding data loader\n",
    "* Ref 2 explanation of sequence 2 sequence models\n",
    "* Ref 5 how to convert timeseries to supervised learning forecasting\n",
    "* Ref 10 shows how to use the Keras Functional API to construct a Model\n",
    "* Ref 7 good explanation of Epocs, Batches, Over-fitting and Under-fitting\n",
    "* Ref 12 embeddings layer with TensorFlow"
   ]
  },
  {
   "cell_type": "markdown",
   "id": "b03abb1a",
   "metadata": {},
   "source": [
    "#### Reiew - Examples"
   ]
  },
  {
   "cell_type": "markdown",
   "id": "aec85845",
   "metadata": {},
   "source": [
    "\n",
    "* Ref 3: Keras, Aripollution dataset\n",
    "* Ref 4: Keras, Univariate (says Multivariate), example of scaling\n",
    "* Ref 6: Tensorflow, electricity use global active power, 1 min sampling, 4 years\n",
    "* Ref 8: Pytorch, Indian stocks, Univariate\n",
    "* Ref 9: Pytorch, univariate, purple air, data loader and structure of data, pytorch model\n",
    "* Ref 11: Keras LSTM, Superstore Dataset"
   ]
  },
  {
   "cell_type": "markdown",
   "id": "65693026",
   "metadata": {},
   "source": [
    "## <p style=\"text-align: center;\">LSTM Example</p>"
   ]
  },
  {
   "cell_type": "code",
   "execution_count": null,
   "id": "416ed1a8",
   "metadata": {},
   "outputs": [],
   "source": [
    "# univariate lstm example\n",
    "from numpy import array\n",
    "from keras.models import Sequential\n",
    "from keras.layers import LSTM\n",
    "from keras.layers import Dense"
   ]
  },
  {
   "cell_type": "markdown",
   "id": "01462af8",
   "metadata": {},
   "source": [
    "## <p style=\"text-align: center;\">Embeddings Example</p>"
   ]
  },
  {
   "cell_type": "markdown",
   "id": "a947edc5",
   "metadata": {},
   "source": []
  }
 ],
 "metadata": {
  "kernelspec": {
   "display_name": "Python 3.8.13 ('sforecast')",
   "language": "python",
   "name": "python3"
  },
  "language_info": {
   "codemirror_mode": {
    "name": "ipython",
    "version": 3
   },
   "file_extension": ".py",
   "mimetype": "text/x-python",
   "name": "python",
   "nbconvert_exporter": "python",
   "pygments_lexer": "ipython3",
   "version": "3.8.13"
  },
  "vscode": {
   "interpreter": {
    "hash": "82ac38857b2c2478fe2e44fd7fc88bfcf92b02e989c0fb664d9fe72d79d5dc17"
   }
  }
 },
 "nbformat": 4,
 "nbformat_minor": 5
}
